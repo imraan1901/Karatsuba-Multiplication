{
 "cells": [
  {
   "cell_type": "code",
   "execution_count": 22,
   "metadata": {
    "collapsed": true
   },
   "outputs": [],
   "source": [
    "# Calculate x^pox in O(logn): n is the power of x (pox)\n",
    "def power(x, pox):\n",
    "    \n",
    "    # Base case\n",
    "    if pox == 0:\n",
    "        return 1\n",
    "    \n",
    "    temp = power(x, pox//2)\n",
    "    # Power is even\n",
    "    if pox % 2 == 0:\n",
    "        \n",
    "        # x^4 = x^2 * x^2\n",
    "        return temp * temp \n",
    "    \n",
    "    # Power is odd\n",
    "    else:\n",
    "        \n",
    "        # x^5 = x * x^2 * x^2\n",
    "        return x * temp * temp\n",
    "    \n",
    "     "
   ]
  },
  {
   "cell_type": "code",
   "execution_count": 23,
   "metadata": {
    "collapsed": true
   },
   "outputs": [],
   "source": [
    "# Get the length of val in O(n): n is input size\n",
    "# ex. val = 1243 would return 4\n",
    "# ex. val = 124 would return 3\n",
    "def length(val):\n",
    "\n",
    "    count = 0;\n",
    "    while val != 0:  \n",
    "\n",
    "        val = val//10\n",
    "        count += 1\n",
    "\n",
    "    return count\n",
    "    "
   ]
  },
  {
   "cell_type": "code",
   "execution_count": 24,
   "metadata": {
    "collapsed": true
   },
   "outputs": [],
   "source": [
    "# Calculate x*y in O(n^1.585)\n",
    "def multiplyks(x,y):\n",
    "    \n",
    "    xLen = length(x)\n",
    "    yLen = length(y)\n",
    "    # base case\n",
    "    if xLen < 2 or yLen < 2:\n",
    "        return x*y \n",
    "    \n",
    "    else:\n",
    "       \n",
    "        n = xLen if xLen > yLen else yLen\n",
    "        \n",
    "        nHalfToPower = power(10, n//2)\n",
    "        \n",
    "        # Extract upper digits of x, ex. x = 100, 100/10^2 = 1\n",
    "        xH = x // nHalfToPower\n",
    "        # Extract lower digits of x, ex. x = 100, 100%10 = 0\n",
    "        xL = x % nHalfToPower\n",
    "        yH = y // nHalfToPower\n",
    "        yL = y % nHalfToPower\n",
    "        \n",
    "        # Recursions\n",
    "        a = multiplyks( xH, yH )\n",
    "        d = multiplyks( xL, yL )\n",
    "        e = multiplyks( xH + xL, yH + yL ) - a - d\n",
    "        return a * nHalfToPower * nHalfToPower + e * nHalfToPower + d\n",
    "\n",
    "    "
   ]
  },
  {
   "cell_type": "code",
   "execution_count": 25,
   "metadata": {
    "collapsed": true
   },
   "outputs": [],
   "source": [
    "# Test different length and size against python implementation for correctness\n",
    "import unittest\n",
    "class TestMultiplyKsMethod(unittest.TestCase):  \n",
    "    def test_multiplyks(self):\n",
    "        self.assertTrue(multiplyks(10,10) == 10*10,\"Not equal\")\n",
    "        self.assertTrue(multiplyks(1000,100000) == 1000*100000,\"Not equal\")\n",
    "        self.assertTrue(multiplyks(99999,9999999) == 99999*9999999,\"Not equal\")\n",
    "        self.assertTrue(multiplyks(234567894567,234692192456) \n",
    "                        == 234567894567*234692192456,\"Not equal\")\n",
    "    \n"
   ]
  },
  {
   "cell_type": "code",
   "execution_count": 26,
   "metadata": {},
   "outputs": [
    {
     "name": "stderr",
     "output_type": "stream",
     "text": [
      ".\n",
      "----------------------------------------------------------------------\n",
      "Ran 1 test in 0.002s\n",
      "\n",
      "OK\n"
     ]
    }
   ],
   "source": [
    "# Run tests\n",
    "if __name__ == '__main__':\n",
    "    unittest.main(argv=['first-arg-is-ignored'], exit=False)"
   ]
  }
 ],
 "metadata": {
  "kernelspec": {
   "display_name": "Python 3",
   "language": "python",
   "name": "python3"
  },
  "language_info": {
   "codemirror_mode": {
    "name": "ipython",
    "version": 3
   },
   "file_extension": ".py",
   "mimetype": "text/x-python",
   "name": "python",
   "nbconvert_exporter": "python",
   "pygments_lexer": "ipython3",
   "version": "3.6.3"
  }
 },
 "nbformat": 4,
 "nbformat_minor": 2
}
